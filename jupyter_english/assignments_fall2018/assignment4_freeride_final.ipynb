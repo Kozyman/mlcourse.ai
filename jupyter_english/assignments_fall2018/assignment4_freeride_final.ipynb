{
 "cells": [
  {
   "cell_type": "code",
   "execution_count": 1,
   "metadata": {},
   "outputs": [],
   "source": [
    "import pickle\n",
    "import numpy as np\n",
    "import pandas as pd\n",
    "from scipy.sparse import hstack, vstack\n",
    "from sklearn.feature_extraction.text import CountVectorizer, TfidfVectorizer\n",
    "from sklearn.model_selection import TimeSeriesSplit, cross_val_score, GridSearchCV, StratifiedKFold, ParameterGrid\n",
    "from sklearn.preprocessing import StandardScaler, PolynomialFeatures\n",
    "from sklearn.pipeline import Pipeline\n",
    "from sklearn.metrics import roc_auc_score\n",
    "from sklearn.linear_model import LogisticRegression, LogisticRegressionCV, SGDClassifier\n",
    "from sklearn.ensemble import RandomForestClassifier\n",
    "from matplotlib import pyplot as plt\n",
    "# from mlxtend.feature_selection import SequentialFeatureSelector\n",
    "import seaborn as sns\n",
    "from tqdm import tqdm_notebook\n",
    "import parfit.parfit as pf\n",
    "sns.set()"
   ]
  },
  {
   "cell_type": "code",
   "execution_count": 13,
   "metadata": {},
   "outputs": [],
   "source": [
    "## Create logistic regression estimator\n",
    "logit = LogisticRegression(C=0.31622777, random_state=17, verbose=1, solver='sag') # C = 0.16681005, 0.14677993, 0.21544347 (in order of desc. perf.)\n",
    "logit_pipe = Pipeline([('poly', PolynomialFeatures(degree=2)), \n",
    "                       ('logit', logit)])\n",
    "stoch = SGDClassifier(loss='log', random_state=17, verbose=0, alpha=0.000095)\n",
    "clf = logit"
   ]
  },
  {
   "cell_type": "code",
   "execution_count": 6,
   "metadata": {},
   "outputs": [
    {
     "name": "stdout",
     "output_type": "stream",
     "text": [
      "Websites total: 48371\n",
      "X_train size is: (253561, 1331) \n",
      "X_test size is: (82797, 1331)\n"
     ]
    }
   ],
   "source": [
    "## Useful CV generators\n",
    "time_split = TimeSeriesSplit(n_splits=10)\n",
    "skf = StratifiedKFold(n_splits=5, shuffle=True, random_state=17)\n",
    "\n",
    "## PolynomialFeatures\n",
    "poly = PolynomialFeatures(2)\n",
    "\n",
    "# A helper function for writing predictions to a file\n",
    "def write_to_submission_file(predicted_labels, out_file,\n",
    "                             target='target', index_label=\"session_id\"):\n",
    "    predicted_df = pd.DataFrame(predicted_labels,\n",
    "                                index = np.arange(1, predicted_labels.shape[0] + 1),\n",
    "                                columns=[target])\n",
    "    predicted_df.to_csv(out_file, index_label=index_label)\n",
    "    \n",
    "# function to add time features to the data\n",
    "def add_time_features(df, X_sparse):\n",
    "    hour = df['time1'].apply(lambda ts: ts.hour)\n",
    "    morning = ((hour >= 7) & (hour <= 11)).astype('int')\n",
    "    day = ((hour >= 12) & (hour <= 18)).astype('int')\n",
    "    evening = ((hour >= 19) & (hour <= 23)).astype('int')\n",
    "    night = ((hour >= 0) & (hour <= 6)).astype('int')\n",
    "    X = hstack([X_sparse, morning.values.reshape(-1, 1), \n",
    "                day.values.reshape(-1, 1), evening.values.reshape(-1, 1), \n",
    "                night.values.reshape(-1, 1)]) #, dayofweek.values.reshape(-1,1)])\n",
    "    return X\n",
    "\n",
    "# function to add more features\n",
    "def add_features(new_feat, X_sparse, scale=False):\n",
    "    if len(new_feat):\n",
    "        if scale:\n",
    "            tmp = StandardScaler().fit_transform([new_feat])\n",
    "        else:\n",
    "            tmp = new_feat\n",
    "        X = hstack([X_sparse, tmp.values.reshape(-1, 1)])\n",
    "    else:\n",
    "        X = X_sparse\n",
    "    return X\n",
    "\n",
    "with open(\"../../data/site_dic.pkl\", \"rb\") as input_file:\n",
    "    site_dict = pickle.load(input_file)\n",
    "\n",
    "# Create dataframe for the dictionary\n",
    "sites_dict = pd.DataFrame(list(site_dict.keys()), index=list(site_dict.values()), columns=['site'])\n",
    "print(u'Websites total:', sites_dict.shape[0])\n",
    "#sites_dict.head()\n",
    "\n",
    "train_df = pd.read_csv('../../data/train_sessions.csv',\n",
    "                       index_col='session_id')\n",
    "test_df = pd.read_csv('../../data/test_sessions.csv',\n",
    "                      index_col='session_id')\n",
    "\n",
    "times = ['time%s' % i for i in range(1, 11)]\n",
    "train_df[times] = train_df[times].apply(pd.to_datetime)\n",
    "test_df[times] = test_df[times].apply(pd.to_datetime)\n",
    "# Sort the data by time\n",
    "train_df = train_df.sort_values(by='time1')\n",
    "\n",
    "sites = ['site%s' % i for i in range(1, 11)]\n",
    "train_df[sites].fillna(0).astype('int').to_csv('train_sessions_text2.txt', \n",
    "                                               sep=' ', \n",
    "                       index=None, header=None)\n",
    "test_df[sites].fillna(0).astype('int').to_csv('test_sessions_text2.txt', \n",
    "                                              sep=' ', \n",
    "                       index=None, header=None)\n",
    "\n",
    "#cv = CountVectorizer(ngram_range=(1, 3), max_features=50000) # not defining max_features as 50,000 here\n",
    "cv = TfidfVectorizer(ngram_range=(1, 3), max_features=100000, analyzer='char_wb')\n",
    "\n",
    "with open('train_sessions_text2.txt') as inp_train_file:\n",
    "    X_train = cv.fit_transform(inp_train_file)\n",
    "with open('test_sessions_text2.txt') as inp_test_file:\n",
    "    X_test = cv.transform(inp_test_file)\n",
    "\n",
    "## This only puts the sites data into a sparse matrix\n",
    "print('X_train size is: {0} \\nX_test size is: {1}'. format(X_train.shape, X_test.shape))\n",
    "\n",
    "## Train target data is saved separately\n",
    "y_train = train_df['target'].astype('int')\n",
    "\n",
    "## full dataset\n",
    "full_df = pd.concat([train_df.drop('target', axis=1), test_df])\n",
    "\n",
    "# split index\n",
    "idx_split = train_df.shape[0]"
   ]
  },
  {
   "cell_type": "code",
   "execution_count": 7,
   "metadata": {},
   "outputs": [
    {
     "name": "stdout",
     "output_type": "stream",
     "text": [
      "(336358, 6)\n",
      "X_train_new size is: (253561, 1335) \n",
      "X_test_new size is: (82797, 1335)\n"
     ]
    }
   ],
   "source": [
    "full_time_df = pd.DataFrame(index=full_df.index)\n",
    "full_time_df['start_day_of_week'] = full_df['time1'].apply(lambda ts: ts.dayofweek)\n",
    "full_time_df['session_mins'] = round((full_df[times].max(axis=1)-full_df[times].min(axis=1))\n",
    "                                      /np.timedelta64(1, 's')/60, 2)\n",
    "full_time_df['session_secs'] = round((full_df[times].max(axis=1)-full_df[times].min(axis=1))\n",
    "                                      /np.timedelta64(1, 's'), 2)\n",
    "full_time_df['start_hour'] = full_df['time1'].apply(lambda ts: ts.hour)\n",
    "full_time_df['site_count'] = full_df[sites].count(axis=1)\n",
    "full_time_df['secs_per_site'] = (round((full_time_df.session_secs/full_time_df.site_count), 2)\n",
    "                                 .replace([np.inf, -np.inf], 0))\n",
    "\n",
    "print(full_time_df.shape)\n",
    "\n",
    "X_train_new = add_time_features(train_df, X_train)\n",
    "X_test_new = add_time_features(test_df, X_test)\n",
    "## Augment X_train and X_test sparse matrices with TOU columns\n",
    "print('X_train_new size is: {0} \\nX_test_new size is: {1}'. format(X_train_new.shape, X_test_new.shape))\n",
    "\n",
    "#full_time_df.head()"
   ]
  },
  {
   "cell_type": "code",
   "execution_count": 8,
   "metadata": {},
   "outputs": [],
   "source": [
    "def update_features(train = X_train_new, test = X_test_new, df = full_df, time_df = full_time_df, train_df = train_df):\n",
    "    X_new = vstack([train, test]) # combine train and test sets\n",
    "    \n",
    "    # day of week feature\n",
    "    dow = (time_df.start_day_of_week<=1).astype('int')\n",
    "    \n",
    "    # session secs feature\n",
    "    s_secs_noScale = time_df.session_mins\n",
    "#     s_secs = StandardScaler().fit_transform([s_secs_noScale])\n",
    "    \n",
    "    # time per site feature\n",
    "    time_site_noScale = time_df.secs_per_site\n",
    "    \n",
    "    # start hour\n",
    "    start_hour = time_df.start_hour\n",
    "\n",
    "    \n",
    "    add_feat_noScale = pd.concat([dow, s_secs_noScale, time_site_noScale], axis=1).values\n",
    "#     add_feat_noScale = poly.fit_transform(add_feat_noScale)\n",
    "#     print(add_feat_noScale.shape)\n",
    "#     print(s_secs_noScale.values.shape, dow.values.shape)\n",
    "    \n",
    "#     add_feat_noScale = poly.fit_transform(pd.concat([dow, s_secs_noScale], axis=1).values)\n",
    "    add_feat = StandardScaler().fit_transform(add_feat_noScale)\n",
    "    \n",
    "    tmp = hstack([X_new, add_feat]).tocsr()\n",
    "    \n",
    "#     tmp = hstack([X_new, dow.values.reshape(-1,1), \n",
    "#                   s_secs.reshape(-1,1)]).tocsr()\n",
    "    \n",
    "    X_train, X_test = tmp[:idx_split,:], tmp[idx_split:,:]\n",
    "    print('X_train size is: {0} \\nX_test size is: {1}'\n",
    "          .format(X_train.shape,X_test.shape))\n",
    "    return X_train, X_test"
   ]
  },
  {
   "cell_type": "code",
   "execution_count": 9,
   "metadata": {},
   "outputs": [
    {
     "name": "stdout",
     "output_type": "stream",
     "text": [
      "X_train size is: (253561, 1338) \n",
      "X_test size is: (82797, 1338)\n",
      "Wall time: 2.97 s\n"
     ]
    }
   ],
   "source": [
    "%%time\n",
    "a,b = update_features() # outputs a= X_train_final, b= X_test_final"
   ]
  },
  {
   "cell_type": "markdown",
   "metadata": {},
   "source": [
    "### RandomForest"
   ]
  },
  {
   "cell_type": "code",
   "execution_count": 31,
   "metadata": {},
   "outputs": [
    {
     "name": "stderr",
     "output_type": "stream",
     "text": [
      "[Parallel(n_jobs=-1)]: Using backend LokyBackend with 4 concurrent workers.\n",
      "[Parallel(n_jobs=-1)]: Done   6 out of  10 | elapsed: 23.3min remaining: 15.6min\n",
      "[Parallel(n_jobs=-1)]: Done  10 out of  10 | elapsed: 39.0min finished\n"
     ]
    },
    {
     "name": "stdout",
     "output_type": "stream",
     "text": [
      "Cross validation RandomForestClassifier score:0.8308 ROC AUC\n",
      "Wall time: 43min 42s\n"
     ]
    }
   ],
   "source": [
    "%%time\n",
    "clf_rf = RandomForestClassifier (random_state=17, n_estimators=100, n_jobs=-1)\n",
    "cross_score_rf = np.mean(cross_val_score (clf_rf, a, y_train, scoring = 'roc_auc', \n",
    "                                          cv = time_split, verbose=5, n_jobs=-1))\n",
    "print ('Cross validation RandomForestClassifier score:% s ROC AUC'% round (cross_score_rf, 4))"
   ]
  },
  {
   "cell_type": "code",
   "execution_count": null,
   "metadata": {},
   "outputs": [],
   "source": [
    "clf_rf.fit (a, y_train)\n",
    "rf_test_pred = clf_rf.predict_proba (X_valid) [:, 1]\n",
    "write_to_submission_file(rf_test_pred, 'km15.csv') "
   ]
  },
  {
   "cell_type": "markdown",
   "metadata": {},
   "source": [
    "### Logistic Regression"
   ]
  },
  {
   "cell_type": "code",
   "execution_count": 14,
   "metadata": {},
   "outputs": [
    {
     "name": "stderr",
     "output_type": "stream",
     "text": [
      "[Parallel(n_jobs=-1)]: Using backend LokyBackend with 4 concurrent workers.\n",
      "[Parallel(n_jobs=-1)]: Done   6 out of  10 | elapsed:  1.1min remaining:   44.5s\n",
      "[Parallel(n_jobs=-1)]: Done  10 out of  10 | elapsed:  2.1min finished\n"
     ]
    },
    {
     "name": "stdout",
     "output_type": "stream",
     "text": [
      "[0.80245853 0.78945368 0.93276183 0.95736399 0.88005093 0.95333339\n",
      " 0.91388133 0.95807639 0.94556131 0.96624471] 0.9099186089798911\n"
     ]
    }
   ],
   "source": [
    "cv_scores = cross_val_score(clf, a, y_train, cv=time_split, verbose=5, \n",
    "                            scoring='roc_auc', n_jobs=-1)\n",
    "print(cv_scores, cv_scores.mean())"
   ]
  },
  {
   "cell_type": "code",
   "execution_count": 15,
   "metadata": {},
   "outputs": [
    {
     "name": "stderr",
     "output_type": "stream",
     "text": [
      "[Parallel(n_jobs=1)]: Using backend SequentialBackend with 1 concurrent workers.\n"
     ]
    },
    {
     "name": "stdout",
     "output_type": "stream",
     "text": [
      "max_iter reached after 68 seconds\n"
     ]
    },
    {
     "name": "stderr",
     "output_type": "stream",
     "text": [
      "[Parallel(n_jobs=1)]: Done   1 out of   1 | elapsed:  1.1min remaining:    0.0s\n",
      "[Parallel(n_jobs=1)]: Done   1 out of   1 | elapsed:  1.1min finished\n"
     ]
    },
    {
     "name": "stdout",
     "output_type": "stream",
     "text": [
      "Wall time: 1min 8s\n"
     ]
    }
   ],
   "source": [
    "%%time\n",
    "clf.fit(a, y_train)\n",
    "logit_test_pred = clf.predict_proba(b)[:, 1]\n",
    "write_to_submission_file(logit_test_pred, 'km16.csv') "
   ]
  },
  {
   "cell_type": "markdown",
   "metadata": {},
   "source": [
    "**Performance Tracking**"
   ]
  },
  {
   "cell_type": "code",
   "execution_count": 29,
   "metadata": {},
   "outputs": [
    {
     "name": "stderr",
     "output_type": "stream",
     "text": [
      "C:\\Users\\kavin\\Anaconda3\\lib\\site-packages\\sklearn\\linear_model\\logistic.py:432: FutureWarning: Default solver will be changed to 'lbfgs' in 0.22. Specify a solver to silence this warning.\n",
      "  FutureWarning)\n"
     ]
    },
    {
     "name": "stdout",
     "output_type": "stream",
     "text": [
      "[LibLinear]Wall time: 12.6 s\n"
     ]
    }
   ],
   "source": [
    "## km1 = 0.94604\n",
    "## km2 = 0.94604 (top 5 sites)\n",
    "## km3 = 0.94604 (first site in top 5 sites)\n",
    "## km4 = 0.94604 (using GridSearchCV for reg. param.)\n",
    "## km5 = 0.94992 (removed 'top_sites' & updated C with value from Log.Reg.CV)\n",
    "## km6 = 0.95021 (using better reg.param.)\n",
    "## km7 = 0.94953 (using 0.14677993 for C)\n",
    "## km8 = 0.94953 (replacing sess_mins with sess_secs)\n",
    "## km9 = 0.94826 (trying SGDClassifier)\n",
    "## km10 = 0.95034 (adding poly features)\n",
    "## km11 = 0.93549 (adding start hour with poly)\n",
    "## km12 = 0.95057 (removed hour, increase to 70,000 max features)\n",
    "## km13 = 0.95034 (added time/site with poly features)\n",
    "## km14 = 0.95016 (removed poly features, keeping time/site)\n",
    "\n",
    "\n",
    "# SUBMIT TO KAGGLE\n",
    "\n",
    "## km15 =  (trying tfid vectorizer)"
   ]
  },
  {
   "cell_type": "code",
   "execution_count": 17,
   "metadata": {},
   "outputs": [],
   "source": [
    "c_values = np.logspace(-1, 1, 10)\n",
    "logit_searcher = LogisticRegressionCV(Cs=c_values, cv=time_split, verbose=0, n_jobs=-1, scoring='roc_auc')"
   ]
  },
  {
   "cell_type": "code",
   "execution_count": 18,
   "metadata": {},
   "outputs": [
    {
     "name": "stdout",
     "output_type": "stream",
     "text": [
      "Wall time: 3min 49s\n"
     ]
    },
    {
     "data": {
      "text/plain": [
       "LogisticRegressionCV(Cs=array([ 0.1    ,  0.16681,  0.27826,  0.46416,  0.77426,  1.29155,\n",
       "        2.15443,  3.59381,  5.99484, 10.     ]),\n",
       "           class_weight=None,\n",
       "           cv=TimeSeriesSplit(max_train_size=None, n_splits=10),\n",
       "           dual=False, fit_intercept=True, intercept_scaling=1.0,\n",
       "           max_iter=100, multi_class='warn', n_jobs=-1, penalty='l2',\n",
       "           random_state=None, refit=True, scoring='roc_auc',\n",
       "           solver='lbfgs', tol=0.0001, verbose=0)"
      ]
     },
     "execution_count": 18,
     "metadata": {},
     "output_type": "execute_result"
    }
   ],
   "source": [
    "%%time\n",
    "logit_searcher.fit(a, y_train)"
   ]
  },
  {
   "cell_type": "code",
   "execution_count": 19,
   "metadata": {},
   "outputs": [
    {
     "data": {
      "text/plain": [
       "array([1.29154967])"
      ]
     },
     "execution_count": 19,
     "metadata": {},
     "output_type": "execute_result"
    }
   ],
   "source": [
    "logit_searcher.C_ # C = 0.16681005, 0.14677993, 0.21544347 (in order of descending performance)"
   ]
  },
  {
   "cell_type": "code",
   "execution_count": 20,
   "metadata": {},
   "outputs": [
    {
     "data": {
      "image/png": "[encoded data removed]",
      "text/plain": [
       "<Figure size 432x288 with 1 Axes>"
      ]
     },
     "metadata": {
      "needs_background": "light"
     },
     "output_type": "display_data"
    }
   ],
   "source": [
    "plt.plot(c_values, np.mean(logit_searcher.scores_[1], axis=0))\n",
    "plt.xlabel('C')\n",
    "plt.ylabel('Mean CV-accuracy');"
   ]
  },
  {
   "cell_type": "code",
   "execution_count": null,
   "metadata": {},
   "outputs": [],
   "source": []
  }
 ],
 "metadata": {
  "kernelspec": {
   "display_name": "Python 3",
   "language": "python",
   "name": "python3"
  },
  "language_info": {
   "codemirror_mode": {
    "name": "ipython",
    "version": 3
   },
   "file_extension": ".py",
   "mimetype": "text/x-python",
   "name": "python",
   "nbconvert_exporter": "python",
   "pygments_lexer": "ipython3",
   "version": "3.7.0"
  }
 },
 "nbformat": 4,
 "nbformat_minor": 2
}
