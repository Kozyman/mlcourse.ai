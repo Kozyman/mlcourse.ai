{
 "cells": [
  {
   "cell_type": "markdown",
   "metadata": {},
   "source": [
    "Strategy:\n",
    "1. Create 6 useful features\n",
    "2. Cross-validate with TimeSeriesSplit (say 10 splits)\n",
    "3. Scoring with 'roc_auc'\n",
    "4. GridSearchCV for regularization parameter"
   ]
  },
  {
   "cell_type": "markdown",
   "metadata": {},
   "source": [
    "## 1. Imports"
   ]
  },
  {
   "cell_type": "code",
   "execution_count": 41,
   "metadata": {},
   "outputs": [],
   "source": [
    "import pickle\n",
    "import numpy as np\n",
    "import pandas as pd\n",
    "from scipy.sparse import hstack, vstack\n",
    "from sklearn.feature_extraction.text import CountVectorizer, TfidfVectorizer\n",
    "from sklearn.model_selection import TimeSeriesSplit, cross_val_score, GridSearchCV, StratifiedKFold, ParameterGrid\n",
    "from sklearn.preprocessing import StandardScaler, PolynomialFeatures\n",
    "from sklearn.pipeline import Pipeline\n",
    "from sklearn.metrics import roc_auc_score\n",
    "from sklearn.linear_model import LogisticRegression, LogisticRegressionCV, SGDClassifier\n",
    "from matplotlib import pyplot as plt\n",
    "import seaborn as sns\n",
    "from tqdm import tqdm_notebook\n",
    "import parfit.parfit as pf\n",
    "sns.set()"
   ]
  },
  {
   "cell_type": "markdown",
   "metadata": {},
   "source": [
    "## 2. Helper functions"
   ]
  },
  {
   "cell_type": "code",
   "execution_count": 2,
   "metadata": {},
   "outputs": [],
   "source": [
    "# A helper function for writing predictions to a file\n",
    "def write_to_submission_file(predicted_labels, out_file,\n",
    "                             target='target', index_label=\"session_id\"):\n",
    "    predicted_df = pd.DataFrame(predicted_labels,\n",
    "                                index = np.arange(1, predicted_labels.shape[0] + 1),\n",
    "                                columns=[target])\n",
    "    predicted_df.to_csv(out_file, index_label=index_label)"
   ]
  },
  {
   "cell_type": "code",
   "execution_count": 3,
   "metadata": {},
   "outputs": [],
   "source": [
    "# function to add time features to the data\n",
    "def add_time_features(df, X_sparse):\n",
    "    hour = df['time1'].apply(lambda ts: ts.hour)\n",
    "    morning = ((hour >= 7) & (hour <= 11)).astype('int')\n",
    "    day = ((hour >= 12) & (hour <= 18)).astype('int')\n",
    "    evening = ((hour >= 19) & (hour <= 23)).astype('int')\n",
    "    night = ((hour >= 0) & (hour <= 6)).astype('int')\n",
    "    # dayofweek = df['time1'].apply(lambda ts: ts.dayofweek) ## added this myself\n",
    "    X = hstack([X_sparse, morning.values.reshape(-1, 1), \n",
    "                day.values.reshape(-1, 1), evening.values.reshape(-1, 1), \n",
    "                night.values.reshape(-1, 1)]) #, dayofweek.values.reshape(-1,1)])\n",
    "    return X"
   ]
  },
  {
   "cell_type": "code",
   "execution_count": 77,
   "metadata": {},
   "outputs": [],
   "source": [
    "## parfit stuff\n",
    "grid = {\n",
    "    'alpha': [1e-4, 1e-3, 1e-2, 1e-1, 1e0, 1e1], # learning rate\n",
    "    'n_iter': [1000], # number of epochs\n",
    "    'loss': ['log'], # logistic regression,\n",
    "    'penalty': ['l2'],\n",
    "    'n_jobs': [-1]\n",
    "}\n",
    "paramGrid = ParameterGrid(grid)\n",
    "\n",
    "## Create logistic regression estimator\n",
    "logit = LogisticRegression(C=0.16681005, random_state=17, verbose=5) # C = 0.16681005, 0.14677993, 0.21544347 (in order of desc. perf.)\n",
    "logit_pipe = Pipeline([('poly', PolynomialFeatures(degree=2)), \n",
    "                       ('logit', logit)])\n",
    "stoch = SGDClassifier(loss='log', random_state=17, verbose=0, alpha=0.000095)\n",
    "clf = logit\n",
    "\n",
    "\n",
    "## Useful CV generators\n",
    "time_split = TimeSeriesSplit(n_splits=10)\n",
    "skf = StratifiedKFold(n_splits=5, shuffle=True, random_state=17)"
   ]
  },
  {
   "cell_type": "markdown",
   "metadata": {},
   "source": [
    "## 3. Extracting data"
   ]
  },
  {
   "cell_type": "markdown",
   "metadata": {},
   "source": [
    "    **Load websites dictionary**"
   ]
  },
  {
   "cell_type": "code",
   "execution_count": 5,
   "metadata": {},
   "outputs": [
    {
     "name": "stdout",
     "output_type": "stream",
     "text": [
      "Websites total: 48371\n"
     ]
    }
   ],
   "source": [
    "with open(\"../../data/site_dic.pkl\", \"rb\") as input_file:\n",
    "    site_dict = pickle.load(input_file)\n",
    "\n",
    "# Create dataframe for the dictionary\n",
    "sites_dict = pd.DataFrame(list(site_dict.keys()), index=list(site_dict.values()), columns=['site'])\n",
    "print(u'Websites total:', sites_dict.shape[0])\n",
    "#sites_dict.head()"
   ]
  },
  {
   "cell_type": "markdown",
   "metadata": {},
   "source": [
    "    **Read the training and test data sets, change paths if needed**"
   ]
  },
  {
   "cell_type": "code",
   "execution_count": 6,
   "metadata": {},
   "outputs": [],
   "source": [
    "train_df = pd.read_csv('../../data/train_sessions.csv',\n",
    "                       index_col='session_id')\n",
    "test_df = pd.read_csv('../../data/test_sessions.csv',\n",
    "                      index_col='session_id')"
   ]
  },
  {
   "cell_type": "markdown",
   "metadata": {},
   "source": [
    "    **Convert time1...time10 to datetime and organize by time1**"
   ]
  },
  {
   "cell_type": "code",
   "execution_count": 7,
   "metadata": {},
   "outputs": [],
   "source": [
    "times = ['time%s' % i for i in range(1, 11)]\n",
    "train_df[times] = train_df[times].apply(pd.to_datetime)\n",
    "test_df[times] = test_df[times].apply(pd.to_datetime)\n",
    "# Sort the data by time\n",
    "train_df = train_df.sort_values(by='time1')"
   ]
  },
  {
   "cell_type": "markdown",
   "metadata": {},
   "source": [
    "    **Convert site visit data to .txt for CountVectorizer**"
   ]
  },
  {
   "cell_type": "code",
   "execution_count": 8,
   "metadata": {},
   "outputs": [],
   "source": [
    "sites = ['site%s' % i for i in range(1, 11)]\n",
    "train_df[sites].fillna(0).astype('int').to_csv('train_sessions_text2.txt', \n",
    "                                               sep=' ', \n",
    "                       index=None, header=None)\n",
    "test_df[sites].fillna(0).astype('int').to_csv('test_sessions_text2.txt', \n",
    "                                              sep=' ', \n",
    "                       index=None, header=None)"
   ]
  },
  {
   "cell_type": "markdown",
   "metadata": {},
   "source": [
    "    **Set up 'X_train' and 'X_test' sparse matrices**"
   ]
  },
  {
   "cell_type": "code",
   "execution_count": 9,
   "metadata": {},
   "outputs": [
    {
     "name": "stdout",
     "output_type": "stream",
     "text": [
      "X_train size is: (253561, 50000) \n",
      "X_test size is: (82797, 50000)\n",
      "Wall time: 20 s\n"
     ]
    }
   ],
   "source": [
    "%%time\n",
    "cv = CountVectorizer(ngram_range=(1, 3), max_features=50000) # not defining max_features as 50,000 here\n",
    "with open('train_sessions_text2.txt') as inp_train_file:\n",
    "    X_train = cv.fit_transform(inp_train_file)\n",
    "with open('test_sessions_text2.txt') as inp_test_file:\n",
    "    X_test = cv.transform(inp_test_file)\n",
    "\n",
    "## This only puts the sites data into a sparse matrix\n",
    "## We'll need to add more feature columns later\n",
    "print('X_train size is: {0} \\nX_test size is: {1}'. format(X_train.shape, X_test.shape))"
   ]
  },
  {
   "cell_type": "markdown",
   "metadata": {},
   "source": [
    "    **Create 'y_train' , 'full_df', and 'idx_split' for convenience**"
   ]
  },
  {
   "cell_type": "code",
   "execution_count": 10,
   "metadata": {},
   "outputs": [],
   "source": [
    "## Train target data is saved separately\n",
    "y_train = train_df['target'].astype('int')\n",
    "\n",
    "## full dataset\n",
    "full_df = pd.concat([train_df.drop('target', axis=1), test_df])\n",
    "\n",
    "# split index\n",
    "idx_split = train_df.shape[0]"
   ]
  },
  {
   "cell_type": "markdown",
   "metadata": {},
   "source": [
    "    **Create 'full_time_df'**"
   ]
  },
  {
   "cell_type": "code",
   "execution_count": 11,
   "metadata": {},
   "outputs": [
    {
     "name": "stdout",
     "output_type": "stream",
     "text": [
      "(336358, 3)\n"
     ]
    }
   ],
   "source": [
    "full_time_df = pd.DataFrame(index=full_df.index)\n",
    "# full_time_df['start_hour'] = full_df['time1'].apply(lambda ts: ts.hour)\n",
    "# full_time_df['start_day'] = full_df['time1'].apply(lambda ts: ts.day)\n",
    "# full_time_df['start_month'] = full_df['time1'].apply(lambda ts: ts.month)\n",
    "full_time_df['start_day_of_week'] = full_df['time1'].apply(lambda ts: ts.dayofweek)\n",
    "full_time_df['session_mins'] = round((full_df[times].max(axis=1)-full_df[times].min(axis=1))\n",
    "                                      /np.timedelta64(1, 's')/60, 2)\n",
    "full_time_df['session_secs'] = round((full_df[times].max(axis=1)-full_df[times].min(axis=1))\n",
    "                                      /np.timedelta64(1, 's'), 2)\n",
    "\n",
    "print(full_time_df.shape)\n",
    "# full_time_df.head()"
   ]
  },
  {
   "cell_type": "markdown",
   "metadata": {},
   "source": [
    "## 4. Create new features"
   ]
  },
  {
   "cell_type": "code",
   "execution_count": 12,
   "metadata": {},
   "outputs": [
    {
     "name": "stdout",
     "output_type": "stream",
     "text": [
      "X_train_new size is: (253561, 50004) \n",
      "X_test_new size is: (82797, 50004)\n",
      "Wall time: 1.34 s\n"
     ]
    }
   ],
   "source": [
    "%%time\n",
    "X_train_new = add_time_features(train_df, X_train)\n",
    "X_test_new = add_time_features(test_df, X_test)\n",
    "## Augment X_train and X_test sparse matrices with TOU columns\n",
    "print('X_train_new size is: {0} \\nX_test_new size is: {1}'. format(X_train_new.shape, X_test_new.shape))"
   ]
  },
  {
   "cell_type": "markdown",
   "metadata": {},
   "source": [
    "# PLAYGROUND"
   ]
  },
  {
   "cell_type": "markdown",
   "metadata": {},
   "source": [
    "  **Helper functions**"
   ]
  },
  {
   "cell_type": "code",
   "execution_count": 13,
   "metadata": {},
   "outputs": [],
   "source": [
    "# function to add more features\n",
    "def add_features(new_feat, X_sparse, scale=False):\n",
    "    if len(new_feat):\n",
    "        if scale:\n",
    "            tmp = StandardScaler().fit_transform([new_feat])\n",
    "        else:\n",
    "            tmp = new_feat\n",
    "        X = hstack([X_sparse, tmp.values.reshape(-1, 1)])\n",
    "    else:\n",
    "        X = X_sparse\n",
    "    return X"
   ]
  },
  {
   "cell_type": "code",
   "execution_count": 14,
   "metadata": {},
   "outputs": [],
   "source": [
    "def try_new_CV(new_feat, X_sparse=X_train_new):\n",
    "    X_train_new2 = add_features(new_feat, X_sparse)\n",
    "    cv_scores = cross_val_score(logit, X_train_new2, y_train, cv=time_split, \n",
    "                            scoring='roc_auc', n_jobs=-1)\n",
    "    print('X_train_new2 size is: {0}'. format(X_train_new2.shape))\n",
    "    return print(cv_scores, cv_scores.mean())"
   ]
  },
  {
   "cell_type": "code",
   "execution_count": null,
   "metadata": {},
   "outputs": [],
   "source": [
    "def update_features(train = X_train_new, test = X_test_new, df = full_df, time_df = full_time_df, train_df = train_df):\n",
    "    X_new = vstack([train, test]) # combine train and test sets\n",
    "    \n",
    "    # day of week feature\n",
    "    dow = (time_df.start_day_of_week<=1).astype('int')\n",
    "    \n",
    "    # session minutes feature\n",
    "#     s_mins_noScale = time_df.session_mins\n",
    "#     s_mins = StandardScaler().fit_transform([s_mins_noScale])\n",
    "\n",
    "    # session secs feature\n",
    "    s_secs_noScale = time_df.session_mins\n",
    "    s_secs = StandardScaler().fit_transform([s_secs_noScale])\n",
    "    \n",
    "#     alice_topsites = np.array(pd.Series(train_df[train_df.target==1][sites].fillna(0).values.flatten())\n",
    "#                               .value_counts().sort_values(ascending=False).head(10).index)\n",
    "#     top_sites = df.site1.isin(alice_topsites).values.astype('int') #changed df[sites] to df.site1 to see start site\n",
    "    \n",
    "    add_feat_noScale = hstack([s_secs_noScale.values.reshape(-1,1),\n",
    "                               dow.values.reshape(-1,1)])\n",
    "    add_feat = StandardScaler().fit_transform([add_feat_noScale])\n",
    "    \n",
    "    tmp = hstack([X_new, add_feat]).tocsr()\n",
    "    \n",
    "#     tmp = hstack([X_new, dow.values.reshape(-1,1), \n",
    "#                   s_secs.reshape(-1,1)]).tocsr()\n",
    "    \n",
    "    X_train, X_test = tmp[:idx_split,:], tmp[idx_split:,:]\n",
    "    print('X_train size is: {0} \\nX_test size is: {1}'\n",
    "          .format(X_train.shape,X_test.shape))\n",
    "    return X_train, X_test\n",
    "    "
   ]
  },
  {
   "cell_type": "markdown",
   "metadata": {},
   "source": [
    " **Updating X_train_new and X_test_new with best new features**  \n",
    " Run this every time I make a change to hyperparameters or features"
   ]
  },
  {
   "cell_type": "code",
   "execution_count": 43,
   "metadata": {},
   "outputs": [
    {
     "name": "stdout",
     "output_type": "stream",
     "text": [
      "X_train size is: (253561, 50006) \n",
      "X_test size is: (82797, 50006)\n",
      "Wall time: 645 ms\n"
     ]
    }
   ],
   "source": [
    "%%time\n",
    "a,b = update_features() # outputs a= X_train_final, b= X_test_final"
   ]
  },
  {
   "cell_type": "code",
   "execution_count": 55,
   "metadata": {},
   "outputs": [],
   "source": [
    "# bestModel, bestScore, allModels, allScores = pf.bestFit(stoch, paramGrid, a, y_train, \n",
    "#                                                         metric = roc_auc_score, scoreLabel = \"AUC\")\n",
    "# print(bestModel, bestScore)"
   ]
  },
  {
   "cell_type": "code",
   "execution_count": 78,
   "metadata": {},
   "outputs": [
    {
     "name": "stderr",
     "output_type": "stream",
     "text": [
      "[Parallel(n_jobs=-1)]: Using backend LokyBackend with 4 concurrent workers.\n",
      "[Parallel(n_jobs=-1)]: Done   6 out of  10 | elapsed:    8.4s remaining:    5.6s\n",
      "[Parallel(n_jobs=-1)]: Done  10 out of  10 | elapsed:   16.3s finished\n"
     ]
    },
    {
     "name": "stdout",
     "output_type": "stream",
     "text": [
      "[0.86601578 0.74013498 0.92983003 0.97764426 0.91378133 0.95217502\n",
      " 0.95462947 0.94201774 0.96091949 0.96599528] 0.920314338760018\n"
     ]
    }
   ],
   "source": [
    "cv_scores = cross_val_score(clf, a, y_train, cv=time_split, verbose=5, \n",
    "                            scoring='roc_auc', n_jobs=-1)\n",
    "print(cv_scores, cv_scores.mean())"
   ]
  },
  {
   "cell_type": "code",
   "execution_count": 38,
   "metadata": {},
   "outputs": [
    {
     "name": "stderr",
     "output_type": "stream",
     "text": [
      "C:\\Users\\kavin\\Anaconda3\\lib\\site-packages\\sklearn\\linear_model\\stochastic_gradient.py:144: FutureWarning: max_iter and tol parameters have been added in SGDClassifier in 0.19. If both are left unset, they default to max_iter=5 and tol=None. If tol is not None, max_iter defaults to max_iter=1000. From 0.21, default max_iter will be 1000, and default tol will be 1e-3.\n",
      "  FutureWarning)\n"
     ]
    },
    {
     "name": "stdout",
     "output_type": "stream",
     "text": [
      "Wall time: 533 ms\n"
     ]
    },
    {
     "data": {
      "text/plain": [
       "SGDClassifier(alpha=0.0001, average=False, class_weight=None,\n",
       "       early_stopping=False, epsilon=0.1, eta0=0.0, fit_intercept=True,\n",
       "       l1_ratio=0.15, learning_rate='optimal', loss='log', max_iter=None,\n",
       "       n_iter=None, n_iter_no_change=5, n_jobs=None, penalty='l2',\n",
       "       power_t=0.5, random_state=17, shuffle=True, tol=None,\n",
       "       validation_fraction=0.1, verbose=0, warm_start=False)"
      ]
     },
     "execution_count": 38,
     "metadata": {},
     "output_type": "execute_result"
    }
   ],
   "source": [
    "%%time\n",
    "clf.fit(a, y_train)"
   ]
  },
  {
   "cell_type": "code",
   "execution_count": 26,
   "metadata": {},
   "outputs": [],
   "source": [
    "logit_test_pred = clf.predict_proba(b)[:, 1]\n",
    "write_to_submission_file(logit_test_pred, 'km9.csv') \n",
    "\n",
    "## km1 = 0.94604\n",
    "## km2 = 0.94604 (top 5 sites)\n",
    "## km3 = 0.94604 (first site in top 5 sites)\n",
    "## km4 = 0.94604 (using GridSearchCV for reg. param.)\n",
    "## km5 = 0.94992 (removed 'top_sites' & updated C with value from Log.Reg.CV)\n",
    "## km6 = 0.95021 (using better reg.param.)\n",
    "## km7 = 0.94953 (using 0.14677993 for C)\n",
    "## km8 = 0.94953 (replacing sess_mins with sess_secs)\n",
    "## km9 = 0.94826 (trying SGDClassifier)"
   ]
  },
  {
   "cell_type": "markdown",
   "metadata": {},
   "source": [
    "**Creating new DFs**"
   ]
  },
  {
   "cell_type": "code",
   "execution_count": 16,
   "metadata": {},
   "outputs": [],
   "source": [
    "time_df = pd.DataFrame(index=train_df.index)\n",
    "time_df['start_hour'] = train_df['time1'].apply(lambda ts: ts.hour)\n",
    "time_df['start_day'] = train_df['time1'].apply(lambda ts: ts.day)\n",
    "time_df['start_month'] = train_df['time1'].apply(lambda ts: ts.month)\n",
    "time_df['start_day_of_week'] = train_df['time1'].apply(lambda ts: ts.dayofweek)\n",
    "time_df['session_mins'] = round((train_df[times].max(axis=1)-train_df[times].min(axis=1))\n",
    "                                /np.timedelta64(1, 's')/60, 2)\n",
    "time_df['session_secs'] = round((train_df[times].max(axis=1)-train_df[times].min(axis=1))\n",
    "                                /np.timedelta64(1, 's'), 2)\n",
    "\n",
    "time_df['target'] = train_df['target']"
   ]
  },
  {
   "cell_type": "code",
   "execution_count": 17,
   "metadata": {},
   "outputs": [
    {
     "data": {
      "text/html": [
       "<div>\n",
       "<style scoped>\n",
       "    .dataframe tbody tr th:only-of-type {\n",
       "        vertical-align: middle;\n",
       "    }\n",
       "\n",
       "    .dataframe tbody tr th {\n",
       "        vertical-align: top;\n",
       "    }\n",
       "\n",
       "    .dataframe thead th {\n",
       "        text-align: right;\n",
       "    }\n",
       "</style>\n",
       "<table border=\"1\" class=\"dataframe\">\n",
       "  <thead>\n",
       "    <tr style=\"text-align: right;\">\n",
       "      <th></th>\n",
       "      <th>start_hour</th>\n",
       "      <th>start_day</th>\n",
       "      <th>start_month</th>\n",
       "      <th>start_day_of_week</th>\n",
       "      <th>session_mins</th>\n",
       "      <th>session_secs</th>\n",
       "      <th>target</th>\n",
       "      <th>stop_hour</th>\n",
       "    </tr>\n",
       "    <tr>\n",
       "      <th>session_id</th>\n",
       "      <th></th>\n",
       "      <th></th>\n",
       "      <th></th>\n",
       "      <th></th>\n",
       "      <th></th>\n",
       "      <th></th>\n",
       "      <th></th>\n",
       "      <th></th>\n",
       "    </tr>\n",
       "  </thead>\n",
       "  <tbody>\n",
       "    <tr>\n",
       "      <th>21669</th>\n",
       "      <td>8</td>\n",
       "      <td>12</td>\n",
       "      <td>1</td>\n",
       "      <td>5</td>\n",
       "      <td>0.00</td>\n",
       "      <td>0.0</td>\n",
       "      <td>0</td>\n",
       "      <td>8</td>\n",
       "    </tr>\n",
       "    <tr>\n",
       "      <th>54843</th>\n",
       "      <td>8</td>\n",
       "      <td>12</td>\n",
       "      <td>1</td>\n",
       "      <td>5</td>\n",
       "      <td>29.77</td>\n",
       "      <td>1786.0</td>\n",
       "      <td>0</td>\n",
       "      <td>9</td>\n",
       "    </tr>\n",
       "    <tr>\n",
       "      <th>77292</th>\n",
       "      <td>8</td>\n",
       "      <td>12</td>\n",
       "      <td>1</td>\n",
       "      <td>5</td>\n",
       "      <td>0.07</td>\n",
       "      <td>4.0</td>\n",
       "      <td>0</td>\n",
       "      <td>8</td>\n",
       "    </tr>\n",
       "    <tr>\n",
       "      <th>114021</th>\n",
       "      <td>8</td>\n",
       "      <td>12</td>\n",
       "      <td>1</td>\n",
       "      <td>5</td>\n",
       "      <td>0.05</td>\n",
       "      <td>3.0</td>\n",
       "      <td>0</td>\n",
       "      <td>8</td>\n",
       "    </tr>\n",
       "    <tr>\n",
       "      <th>146670</th>\n",
       "      <td>8</td>\n",
       "      <td>12</td>\n",
       "      <td>1</td>\n",
       "      <td>5</td>\n",
       "      <td>0.03</td>\n",
       "      <td>2.0</td>\n",
       "      <td>0</td>\n",
       "      <td>8</td>\n",
       "    </tr>\n",
       "  </tbody>\n",
       "</table>\n",
       "</div>"
      ],
      "text/plain": [
       "            start_hour  start_day  start_month  start_day_of_week  \\\n",
       "session_id                                                          \n",
       "21669                8         12            1                  5   \n",
       "54843                8         12            1                  5   \n",
       "77292                8         12            1                  5   \n",
       "114021               8         12            1                  5   \n",
       "146670               8         12            1                  5   \n",
       "\n",
       "            session_mins  session_secs  target  stop_hour  \n",
       "session_id                                                 \n",
       "21669               0.00           0.0       0          8  \n",
       "54843              29.77        1786.0       0          9  \n",
       "77292               0.07           4.0       0          8  \n",
       "114021              0.05           3.0       0          8  \n",
       "146670              0.03           2.0       0          8  "
      ]
     },
     "execution_count": 17,
     "metadata": {},
     "output_type": "execute_result"
    }
   ],
   "source": [
    "time_df['stop_hour'] = train_df[times].max(axis=1).apply(lambda ts: ts.hour)\n",
    "time_df.head()"
   ]
  },
  {
   "cell_type": "markdown",
   "metadata": {},
   "source": [
    " **Testing on X_train_new**"
   ]
  },
  {
   "cell_type": "code",
   "execution_count": 207,
   "metadata": {},
   "outputs": [
    {
     "name": "stdout",
     "output_type": "stream",
     "text": [
      "X_train_new2 size is: (253561, 50005)\n",
      "[0.87707293 0.75150339 0.93051584 0.97861578 0.90397903 0.93828189\n",
      " 0.96247957 0.92736806 0.94885462 0.9404249 ] 0.9159096013811006\n",
      "Wall time: 1min 8s\n"
     ]
    }
   ],
   "source": [
    "%%time\n",
    "\n",
    "feature =[]\n",
    "try_new_CV(feature)\n",
    "\n",
    "\n",
    "## TESTED FEATURES:\n",
    "# 1. (time_df.session_mins<=5).astype('int')\n",
    "# 2. time_df.start_day_of_week\n",
    "# 3. (time_df.start_day_of_week<=1).astype('int') -- works!\n",
    "# 4. ((time_df.start_month>=5) & (time_df.start_month<=10)).astype('int')\n",
    "# 5. time_df.start_month\n",
    "# 6. time_df.session_mins -- works!\n",
    "# 7. time_df.stop_hour\n",
    "\n"
   ]
  },
  {
   "cell_type": "markdown",
   "metadata": {},
   "source": [
    "## 5. CV tests"
   ]
  },
  {
   "cell_type": "markdown",
   "metadata": {},
   "source": [
    "**Run this part for cross-validation:**"
   ]
  },
  {
   "cell_type": "code",
   "execution_count": 24,
   "metadata": {},
   "outputs": [
    {
     "name": "stdout",
     "output_type": "stream",
     "text": [
      "[0.8768408  0.74187718 0.93123685 0.97718293 0.91168548 0.94568253\n",
      " 0.95799311 0.9301223  0.95475983 0.94745043] 0.9174831450116139\n",
      "Wall time: 32.7 s\n"
     ]
    }
   ],
   "source": [
    "%%time\n",
    "cv_scores = cross_val_score(logit, X_train_new, y_train, cv=time_split, \n",
    "                            scoring='roc_auc', n_jobs=-1)\n",
    "print(cv_scores, cv_scores.mean())"
   ]
  },
  {
   "cell_type": "markdown",
   "metadata": {},
   "source": [
    "**CV scores to beat**"
   ]
  },
  {
   "cell_type": "code",
   "execution_count": 97,
   "metadata": {},
   "outputs": [
    {
     "name": "stdout",
     "output_type": "stream",
     "text": [
      "X_train_final size is: (253561, 50006)\n",
      "[0.86601578 0.74013196 0.92982563 0.97764426 0.91378073 0.95217402\n",
      " 0.95462947 0.94201809 0.96092022 0.96599561] 0.9203135777750443\n",
      "Wall time: 29.5 s\n"
     ]
    }
   ],
   "source": [
    "%%time\n",
    "\n",
    "X_train_final = add_features(feature, a) \n",
    "# if features is empty, original X_train_final is returned\n",
    "\n",
    "print('X_train_final size is: {0}'. format(X_train_final.shape))\n",
    "cv_scores = cross_val_score(logit, X_train_final, y_train, cv=time_split, \n",
    "                            scoring='roc_auc', n_jobs=-1)\n",
    "print(cv_scores, cv_scores.mean())\n",
    "feature = [] # Clears out features to prevent accidental feature addition"
   ]
  },
  {
   "cell_type": "markdown",
   "metadata": {},
   "source": [
    "**Search for best regularization parameter**\n",
    "Don't run this every time!"
   ]
  },
  {
   "cell_type": "code",
   "execution_count": 81,
   "metadata": {},
   "outputs": [],
   "source": [
    "c_values = np.logspace(-1, -0.5, 10)"
   ]
  },
  {
   "cell_type": "markdown",
   "metadata": {},
   "source": [
    "    ~ LogisticRegressionCV ~"
   ]
  },
  {
   "cell_type": "code",
   "execution_count": 82,
   "metadata": {},
   "outputs": [],
   "source": [
    "logit_searcher = LogisticRegressionCV(Cs=c_values, cv=time_split, verbose=0, n_jobs=-1, scoring='roc_auc')"
   ]
  },
  {
   "cell_type": "code",
   "execution_count": null,
   "metadata": {},
   "outputs": [
    {
     "name": "stderr",
     "output_type": "stream",
     "text": [
      "[Parallel(n_jobs=-1)]: Using backend LokyBackend with 4 concurrent workers.\n"
     ]
    }
   ],
   "source": [
    "%%time\n",
    "logit_searcher.fit(a, y_train)"
   ]
  },
  {
   "cell_type": "code",
   "execution_count": null,
   "metadata": {},
   "outputs": [],
   "source": [
    "logit_searcher.C_ # C = 0.16681005, 0.14677993, 0.21544347 (in order of descending performance)"
   ]
  },
  {
   "cell_type": "code",
   "execution_count": null,
   "metadata": {},
   "outputs": [],
   "source": [
    "plt.plot(c_values, np.mean(logit_searcher.scores_[1], axis=0))\n",
    "plt.xlabel('C')\n",
    "plt.ylabel('Mean CV-accuracy');"
   ]
  },
  {
   "cell_type": "markdown",
   "metadata": {},
   "source": [
    "    ~ GridSearch CV ~ Really slow (generalized for non-logistic models)"
   ]
  },
  {
   "cell_type": "code",
   "execution_count": 243,
   "metadata": {},
   "outputs": [],
   "source": [
    "logit_grid_searcher = GridSearchCV(estimator=logit, param_grid={'C': c_values},\n",
    "                                  scoring='roc_auc', n_jobs=-1, cv=time_split, verbose=1)"
   ]
  },
  {
   "cell_type": "code",
   "execution_count": 244,
   "metadata": {},
   "outputs": [
    {
     "name": "stdout",
     "output_type": "stream",
     "text": [
      "Fitting 10 folds for each of 10 candidates, totalling 100 fits\n"
     ]
    },
    {
     "name": "stderr",
     "output_type": "stream",
     "text": [
      "[Parallel(n_jobs=1)]: Done 100 out of 100 | elapsed: 52.2min finished\n"
     ]
    },
    {
     "name": "stdout",
     "output_type": "stream",
     "text": [
      "Wall time: 52min 20s\n"
     ]
    },
    {
     "data": {
      "text/plain": [
       "GridSearchCV(cv=TimeSeriesSplit(max_train_size=None, n_splits=10),\n",
       "       error_score='raise',\n",
       "       estimator=LogisticRegression(C=1, class_weight=None, dual=False, fit_intercept=True,\n",
       "          intercept_scaling=1, max_iter=100, multi_class='ovr', n_jobs=1,\n",
       "          penalty='l2', random_state=17, solver='liblinear', tol=0.0001,\n",
       "          verbose=0, warm_start=False),\n",
       "       fit_params=None, iid=True, n_jobs=1,\n",
       "       param_grid={'C': array([ 0.1    ,  0.16681,  0.27826,  0.46416,  0.77426,  1.29155,\n",
       "        2.15443,  3.59381,  5.99484, 10.     ])},\n",
       "       pre_dispatch='2*n_jobs', refit=True, return_train_score='warn',\n",
       "       scoring='roc_auc', verbose=1)"
      ]
     },
     "execution_count": 244,
     "metadata": {},
     "output_type": "execute_result"
    }
   ],
   "source": [
    "%%time\n",
    "logit_grid_searcher.fit(a, y_train)"
   ]
  },
  {
   "cell_type": "code",
   "execution_count": 245,
   "metadata": {},
   "outputs": [
    {
     "data": {
      "text/plain": [
       "(0.9215084569902895, {'C': 0.2782559402207124})"
      ]
     },
     "execution_count": 245,
     "metadata": {},
     "output_type": "execute_result"
    }
   ],
   "source": [
    "logit_grid_searcher.best_score_, logit_grid_searcher.best_params_\n",
    "## output= (0.9215084569902895, {'C': 0.2782559402207124})"
   ]
  },
  {
   "cell_type": "code",
   "execution_count": 246,
   "metadata": {},
   "outputs": [],
   "source": [
    "logit_test_pred_gridcv = logit_grid_searcher.predict_proba(b)[:, 1]\n",
    "write_to_submission_file(logit_test_pred_gridcv, 'km4.csv') # 0."
   ]
  },
  {
   "cell_type": "code",
   "execution_count": null,
   "metadata": {},
   "outputs": [],
   "source": []
  },
  {
   "cell_type": "markdown",
   "metadata": {},
   "source": [
    "    ** Old code **"
   ]
  },
  {
   "cell_type": "code",
   "execution_count": 193,
   "metadata": {},
   "outputs": [],
   "source": [
    "# alice_topsites = np.array(pd.Series(train_df[train_df.target==1][sites].fillna(0).values.flatten())\n",
    "#                       .value_counts().sort_values(ascending=False).head(10).index)\n",
    "\n",
    "# testSet = alice_topsites = np.array(pd.Series(train_df[train_df.target==1][sites].fillna(0).values.flatten())\n",
    "#                       .value_counts().sort_values(ascending=False).head(5).index)"
   ]
  },
  {
   "cell_type": "code",
   "execution_count": 205,
   "metadata": {},
   "outputs": [],
   "source": [
    "# top_sites = np.sum(train_df[sites].isin(alice_topsites).values, axis=1)"
   ]
  },
  {
   "cell_type": "code",
   "execution_count": 30,
   "metadata": {},
   "outputs": [],
   "source": [
    "# full_df[sites].head()"
   ]
  },
  {
   "cell_type": "code",
   "execution_count": 19,
   "metadata": {},
   "outputs": [],
   "source": [
    "# # testing new time features\n",
    "# def add_time_features2(df, X_sparse):\n",
    "#     hour = df['time1'].apply(lambda ts: ts.hour)\n",
    "#     morning = ((hour >= 7) & (hour <= 11)).astype('int')\n",
    "#     day = ((hour >= 12) & (hour <= 15)).astype('int') ## changed end time from 18 to 15\n",
    "#     early_evening = ((hour >= 16) & (hour <= 18)).astype('int') ## changed start time from 19 to 16 \n",
    "#     late_evening = ((hour >= 19) & (hour <= 23)).astype('int') #added this feature\n",
    "#     night = ((hour >= 0) & (hour <= 6)).astype('int')\n",
    "#     X = hstack([X_sparse, morning.values.reshape(-1, 1), \n",
    "#                 day.values.reshape(-1, 1), early_evening.values.reshape(-1, 1), \n",
    "#                 late_evening.values.reshape(-1, 1), night.values.reshape(-1, 1)]) #, dayofweek.values.reshape(-1,1)])\n",
    "#     return X"
   ]
  },
  {
   "cell_type": "code",
   "execution_count": 71,
   "metadata": {},
   "outputs": [],
   "source": [
    "#X_test_new2 = add_features(test_df, X_test_new)\n",
    "## Augment X_train and X_test sparse matrices with TOU columns\n",
    "# print('X_train_new2 size is: {0} \\nX_test_new size2 is: {1}'. format(X_train_new2.shape, X_test_new.shape))\n",
    "\n",
    "# testfeat = []\n",
    "# X_train_final2 = add_features(testfeat, X_train_final)\n",
    "# print('X_train_final size is: {0}'. format(X_train_final.shape))"
   ]
  },
  {
   "cell_type": "code",
   "execution_count": null,
   "metadata": {},
   "outputs": [],
   "source": [
    "# ## Test/Train/Full Sites DataFrames\n",
    "# train_df_sites = train_df[sites].fillna(0).astype('int')\n",
    "# test_df_sites = test_df[sites].fillna(0).astype('int')\n",
    "# full_sites = full_df[sites].fillna(0).astype('int')\n",
    "\n",
    "####~~~~~~~~~~~\n",
    "# ## Test/Train/Full Times DataFrames\n",
    "# train_df_times = train_df[times]\n",
    "# test_df_times = test_df[times]\n",
    "# full_times = full_df[times]\n",
    "\n",
    "####~~~~~~~~~~~~\n",
    "# ## Train DataFrame for time differences between sessions\n",
    "# time_df = pd.DataFrame(index=train_df.index)\n",
    "# time_df['target'] = train_df['target']\n",
    "\n",
    "# # Find sessions' starting and ending\n",
    "# time_df['min'] = train_df[times].min(axis=1)\n",
    "# time_df['max'] = train_df[times].max(axis=1)\n",
    "\n",
    "# # Calculate sessions' duration in seconds\n",
    "# time_df['seconds'] = (time_df['max'] - time_df['min']) / np.timedelta64(1, 's')\n",
    "\n",
    "####~~~~~~~~~~\n",
    "# ## Test DataFrame for time differences between sessions\n",
    "# time_df_test = pd.DataFrame(index=test_df.index)\n",
    "\n",
    "# # Find sessions' starting and ending\n",
    "# time_df_test['min'] = test_df[times].min(axis=1)\n",
    "# time_df_test['max'] = test_df[times].max(axis=1)\n",
    "\n",
    "# # Calculate sessions' duration in seconds\n",
    "# time_df_test['seconds'] = (time_df_test['max'] - time_df_test['min']) / np.timedelta64(1, 's')"
   ]
  },
  {
   "cell_type": "code",
   "execution_count": 32,
   "metadata": {},
   "outputs": [
    {
     "data": {
      "text/plain": [
       "pandas.core.series.Series"
      ]
     },
     "execution_count": 32,
     "metadata": {},
     "output_type": "execute_result"
    }
   ],
   "source": [
    "#type((time_df.session_mins<=10).astype('int'))"
   ]
  },
  {
   "cell_type": "code",
   "execution_count": 78,
   "metadata": {},
   "outputs": [
    {
     "data": {
      "text/plain": [
       "<253561x50000 sparse matrix of type '<class 'numpy.int64'>'\n",
       "\twith 3379553 stored elements in Compressed Sparse Row format>"
      ]
     },
     "execution_count": 78,
     "metadata": {},
     "output_type": "execute_result"
    }
   ],
   "source": [
    "# maybe = vstack([X_train, X_test])\n",
    "# maybe[:idx_split, :]"
   ]
  },
  {
   "cell_type": "code",
   "execution_count": 80,
   "metadata": {},
   "outputs": [
    {
     "data": {
      "text/plain": [
       "array([[0., 0., 0., ..., 0., 0., 0.]])"
      ]
     },
     "execution_count": 80,
     "metadata": {},
     "output_type": "execute_result"
    }
   ],
   "source": [
    "s_noScale = time_df.session_mins\n",
    "s_ = StandardScaler().fit_transform([s_noScale])\n",
    "s_"
   ]
  },
  {
   "cell_type": "markdown",
   "metadata": {},
   "source": [
    "## 6. Plots"
   ]
  },
  {
   "cell_type": "code",
   "execution_count": 27,
   "metadata": {},
   "outputs": [
    {
     "data": {
      "text/plain": [
       "<seaborn.axisgrid.FacetGrid at 0x2a38dcad3c8>"
      ]
     },
     "execution_count": 27,
     "metadata": {},
     "output_type": "execute_result"
    },
    {
     "data": {
      "image/png": "[encoded data removed]",
      "text/plain": [
       "<Figure size 405.725x360 with 1 Axes>"
      ]
     },
     "metadata": {
      "needs_background": "light"
     },
     "output_type": "display_data"
    }
   ],
   "source": [
    "sns.lmplot(x='start_day_of_week', y='session_mins', data=time_df, hue='target', fit_reg=False)"
   ]
  },
  {
   "cell_type": "code",
   "execution_count": 40,
   "metadata": {},
   "outputs": [
    {
     "data": {
      "text/plain": [
       "<seaborn.axisgrid.FacetGrid at 0x2a38b55d860>"
      ]
     },
     "execution_count": 40,
     "metadata": {},
     "output_type": "execute_result"
    },
    {
     "data": {
      "image/png": "[encoded data removed]",
      "text/plain": [
       "<Figure size 405.725x360 with 1 Axes>"
      ]
     },
     "metadata": {
      "needs_background": "light"
     },
     "output_type": "display_data"
    }
   ],
   "source": [
    "sns.lmplot(x='start_hour', y='session_mins', data=time_df, hue='target', fit_reg=False)"
   ]
  },
  {
   "cell_type": "code",
   "execution_count": 167,
   "metadata": {},
   "outputs": [
    {
     "data": {
      "text/plain": [
       "<seaborn.axisgrid.FacetGrid at 0x2a38be22c50>"
      ]
     },
     "execution_count": 167,
     "metadata": {},
     "output_type": "execute_result"
    },
    {
     "data": {
      "image/png": "[encoded data removed]",
      "text/plain": [
       "<Figure size 405.725x360 with 1 Axes>"
      ]
     },
     "metadata": {},
     "output_type": "display_data"
    }
   ],
   "source": [
    "sns.lmplot('session_mins', 'stop_hour', data=time_df, hue='target', fit_reg=False)"
   ]
  },
  {
   "cell_type": "code",
   "execution_count": 171,
   "metadata": {},
   "outputs": [
    {
     "data": {
      "text/plain": [
       "<matplotlib.axes._subplots.AxesSubplot at 0x2a38ac7cc88>"
      ]
     },
     "execution_count": 171,
     "metadata": {},
     "output_type": "execute_result"
    },
    {
     "data": {
      "image/png": "[encoded data removed]",
      "text/plain": [
       "<Figure size 432x288 with 1 Axes>"
      ]
     },
     "metadata": {},
     "output_type": "display_data"
    }
   ],
   "source": [
    "sns.countplot(x='start_hour', data=time_df, hue='target')"
   ]
  },
  {
   "cell_type": "code",
   "execution_count": null,
   "metadata": {},
   "outputs": [],
   "source": []
  }
 ],
 "metadata": {
  "kernelspec": {
   "display_name": "Python 3",
   "language": "python",
   "name": "python3"
  },
  "language_info": {
   "codemirror_mode": {
    "name": "ipython",
    "version": 3
   },
   "file_extension": ".py",
   "mimetype": "text/x-python",
   "name": "python",
   "nbconvert_exporter": "python",
   "pygments_lexer": "ipython3",
   "version": "3.7.0"
  }
 },
 "nbformat": 4,
 "nbformat_minor": 2
}
